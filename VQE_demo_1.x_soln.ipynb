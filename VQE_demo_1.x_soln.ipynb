{
 "cells": [
  {
   "cell_type": "code",
   "execution_count": 2,
   "id": "7f455cc6-7caa-4ade-8381-83b2b3afa8da",
   "metadata": {},
   "outputs": [
    {
     "name": "stdout",
     "output_type": "stream",
     "text": [
      "1.1.1\n"
     ]
    }
   ],
   "source": [
    "import qiskit\n",
    "print(qiskit.__version__)"
   ]
  },
  {
   "cell_type": "markdown",
   "id": "5160dd53-f39d-41fe-8f1e-6a7834c5812d",
   "metadata": {},
   "source": [
    "# Finding minimum/maximum eigenvalues using VQE"
   ]
  },
  {
   "cell_type": "markdown",
   "id": "1169f21e-8f1b-4fe8-a07a-eba1efb7cff6",
   "metadata": {},
   "source": [
    "Many problems in Mathematics, Physics and Chemistry require the estimation of the minimum or the maximum eigenvalues of a system. Classically, for very large systems, variational forms have been in use to derive them. Let us say we have been given an operator (matrix) $L$, whose minimum eigenvalue we are interested in. \n",
    "\n",
    "We start off with an initial parametrized good guess (ansatz) $\\left| \\psi (\\theta) \\right\\rangle$. The expectation of this operator with respect to this ansatz $E = \\left\\langle L \\right\\rangle = \\left\\langle \\psi (\\theta)\\right| L \\left| \\psi (\\theta) \\right\\rangle$ is then calculated. An optimizer is then used to find the optimal parameters that minimizes (maximizes) this expectation value. The variational form ensures that \n",
    "\n",
    "$$ \\lambda _{min} \\leq \\left\\langle \\psi (\\theta)\\right| L \\left| \\psi (\\theta) \\right\\rangle.$$\n",
    "\n",
    "A perfect guess would be when the ansatz is the minimum eigenvector. That would give us $E = \\lambda _{min}$, the minimum eigenvalue. "
   ]
  },
  {
   "cell_type": "markdown",
   "id": "b2fea163-a22c-473f-8134-4614f2d3811e",
   "metadata": {},
   "source": [
    "For implementation in a Quantum computer the operator is expressed as a sum of Pauli operators, $Z, X, Y$ and $I$. Let us say, we want to find the minimum eigenvalue of the matrix $$ A = \\left[\\begin{array}{cc} 2 & 3 \\\\ 3 & 6 \\\\  \n",
    "\\end{array}\\right]$$. \n",
    "\n",
    "Now $A$ could be written as a sum of Pauli operators as follows.\n",
    "$$A = -2Z + 4I + 3X$$\n",
    "\n",
    "The expectation of $A$, $\\left\\langle A \\right\\rangle$, can be expressed as \n",
    "$$ \\left\\langle A \\right\\rangle = -2\\left\\langle Z \\right\\rangle + 4 + 3 \\left\\langle X \\right\\rangle $$\n"
   ]
  },
  {
   "cell_type": "markdown",
   "id": "830b561b-a8a8-4bf7-ade3-0ffc0405154c",
   "metadata": {},
   "source": [
    "This problem can be solved using a single qubit system, as our matrix is of size 2×2. We will create our ansatz by applying the 𝑈 gate to a |0⟩. The 𝑈 gate requires 3 parameters. More on 𝑈 gate can be found in the following link.\n",
    "\n",
    "https://docs.quantum.ibm.com/api/qiskit/qiskit.circuit.library.UGate\n",
    "\n",
    "Let us first find the eigenvalues of the matrix 𝐴 classically. "
   ]
  },
  {
   "cell_type": "code",
   "execution_count": 3,
   "id": "62e54f04-0782-4c01-bce4-b215ee756720",
   "metadata": {},
   "outputs": [
    {
     "name": "stdout",
     "output_type": "stream",
     "text": [
      "[0.39444872 7.60555128]\n"
     ]
    }
   ],
   "source": [
    "import numpy as np\n",
    "\n",
    "AA = np.array([[2, 3],[3, 6]])\n",
    "print(np.linalg.eig(AA)[0])"
   ]
  },
  {
   "cell_type": "code",
   "execution_count": 4,
   "id": "1168225a-4fb1-4aab-be96-0c6422084b86",
   "metadata": {},
   "outputs": [],
   "source": [
    "from qiskit import QuantumCircuit \n",
    "from qiskit.visualization import plot_histogram"
   ]
  },
  {
   "cell_type": "code",
   "execution_count": 5,
   "id": "75c7888d-0de3-4f7b-af9e-22715ecf8eff",
   "metadata": {},
   "outputs": [],
   "source": [
    "def var_circuit(params):\n",
    "    var_circ = QuantumCircuit(1)\n",
    "    var_circ.u(params[0], params[1], params[2],0)\n",
    "    return var_circ"
   ]
  },
  {
   "cell_type": "code",
   "execution_count": 6,
   "id": "bc8353ac-f6f6-446f-88fc-dcf1dae03bc1",
   "metadata": {},
   "outputs": [
    {
     "data": {
      "image/png": "[encoded data removed]",
      "text/plain": [
       "<Figure size 269.064x117.056 with 1 Axes>"
      ]
     },
     "execution_count": 6,
     "metadata": {},
     "output_type": "execute_result"
    }
   ],
   "source": [
    "params = np.random.rand(3)\n",
    "pri_ckt = var_circuit(params)\n",
    "pri_ckt.draw('mpl')"
   ]
  },
  {
   "cell_type": "markdown",
   "id": "3328ac50-e683-4a7f-9b70-772c39efadf7",
   "metadata": {},
   "source": [
    "## Estimating $\\left\\langle Z \\right\\rangle$"
   ]
  },
  {
   "cell_type": "markdown",
   "id": "a7f89c79-9a86-4158-9550-0b9fe04dd12b",
   "metadata": {},
   "source": [
    "The result of this measurement can either be $\\left| 0 \\right\\rangle$ or $\\left| 1 \\right\\rangle$. Since both are eigenvectors of $Z$, with eigenvalues $1$ and $-1$, $\\left\\langle Z \\right\\rangle$ will be equal to the number of times we have $1$ minus the mumber of times we have $-1$. \n",
    "For example, let us say, $\\left| \\psi \\right\\rangle = c_1 \\left| 0 \\right\\rangle + c_2 \\left| 1 \\right\\rangle.$ Then,\n",
    "\n",
    "$$\\left\\langle \\psi \\right| Z \\left| \\psi \\right\\rangle = c_1 ^2 - c_2 ^2 $$\n",
    "\n",
    "\n",
    "$c_1^2$ is the probability of occurence of $\\left| 0 \\right\\rangle$ and $c_2^2$ is the probability of occurence of $\\left| 1 \\right\\rangle$. This is calculated as given below."
   ]
  },
  {
   "cell_type": "markdown",
   "id": "64e160bd-30ec-4a9c-a306-bc9f5619836e",
   "metadata": {},
   "source": [
    "### We will first do it with a simulator. Then a fake backend."
   ]
  },
  {
   "cell_type": "code",
   "execution_count": 5,
   "id": "f4ea08fb-f8e3-44c0-b5cb-3a3828c177b3",
   "metadata": {},
   "outputs": [],
   "source": [
    "from qiskit_aer.primitives import Sampler\n",
    "\n",
    "sampler_sim = Sampler(backend_options={\"method\": \"matrix_product_state\", \"shots\":10000})"
   ]
  },
  {
   "cell_type": "code",
   "execution_count": 8,
   "id": "5a1079eb-8e77-45af-847f-149c84018ac7",
   "metadata": {},
   "outputs": [
    {
     "name": "stdout",
     "output_type": "stream",
     "text": [
      "{1: 0.1399, 0: 0.8601}\n"
     ]
    },
    {
     "data": {
      "image/png": "[encoded data removed]",
      "text/plain": [
       "<Figure size 640x480 with 1 Axes>"
      ]
     },
     "execution_count": 8,
     "metadata": {},
     "output_type": "execute_result"
    }
   ],
   "source": [
    "Zmeas = pri_ckt.copy()\n",
    "Zmeas.measure_all()\n",
    "Zmeas.draw('mpl')\n",
    "\n",
    "result = sampler_sim.run(Zmeas).result()\n",
    "counts = result.quasi_dists[0]\n",
    "print(counts)\n",
    "zz = counts[0] - counts[1]\n",
    "plot_histogram(counts) "
   ]
  },
  {
   "cell_type": "markdown",
   "id": "6f71aec7-be83-4be5-a31e-7e738ac6cf1a",
   "metadata": {},
   "source": [
    "## Estimating $\\left\\langle X \\right\\rangle$"
   ]
  },
  {
   "cell_type": "markdown",
   "id": "722278b1-5618-4b74-979f-eb7ad8c61c89",
   "metadata": {},
   "source": [
    "In a Quantum computer measurements are always performed in the $Z$ computational basis. $\\left\\langle X \\right\\rangle$ can be estimated by first expressing $X$ in the form $HZH$ using the Hadamard gates $H$. That would give us the following.\n",
    "\n",
    "$$ \\left\\langle\\psi\\right| X\\left| \\psi\\right\\rangle = \\left\\langle \\psi\\right| HZH \\left| \\psi\\right\\rangle$$\n",
    "$$  = \\left\\langle \\psi H \\right| Z \\left| H\\psi\\right\\rangle$$\n",
    "\n",
    "This is equivalent to finding $\\left\\langle Z \\right\\rangle$ after operating an extra Hadamard gate on the ansatz. This is as given below. "
   ]
  },
  {
   "cell_type": "code",
   "execution_count": 9,
   "id": "6ce926ab-ceaf-44c6-aff8-8a924c612b8a",
   "metadata": {},
   "outputs": [
    {
     "name": "stdout",
     "output_type": "stream",
     "text": [
      "{1: 0.158, 0: 0.842}\n"
     ]
    },
    {
     "data": {
      "image/png": "[encoded data removed]",
      "text/plain": [
       "<Figure size 640x480 with 1 Axes>"
      ]
     },
     "execution_count": 9,
     "metadata": {},
     "output_type": "execute_result"
    }
   ],
   "source": [
    "Xmeas = pri_ckt.copy()\n",
    "Xmeas.h(0)\n",
    "Xmeas.measure_all()\n",
    "Xmeas.draw('mpl')\n",
    "result = sampler_sim.run(Xmeas).result()\n",
    "counts = result.quasi_dists[0]\n",
    "\n",
    "print(counts)\n",
    "xx = counts[0] - counts[1]\n",
    "plot_histogram(counts) "
   ]
  },
  {
   "cell_type": "markdown",
   "id": "04210747-c371-4e92-a62d-95ee55cf354e",
   "metadata": {},
   "source": [
    "## Overall expectation value of the operator"
   ]
  },
  {
   "cell_type": "code",
   "execution_count": 10,
   "id": "6a87f9c2-1f43-474d-82a1-9d60c9dd3fc7",
   "metadata": {},
   "outputs": [
    {
     "name": "stdout",
     "output_type": "stream",
     "text": [
      "4.611599999999999\n"
     ]
    }
   ],
   "source": [
    "eig_value = -2*zz + 4 + 3*xx\n",
    "print(eig_value)"
   ]
  },
  {
   "cell_type": "markdown",
   "id": "38b33438-9258-4eb9-b3c2-e66603eaaa9f",
   "metadata": {},
   "source": [
    "We started off with a random set of paramaters and reached a value of xx using 100 shots for calculating the expectation. This is not close to the expected lowest eigenvalue of $0.39$. We will have to further optimize the parameters using an optimizer, which will form the classical part of the system. "
   ]
  },
  {
   "cell_type": "markdown",
   "id": "0bafc63d-6160-43b4-bc9a-f3499770824a",
   "metadata": {},
   "source": [
    "### Overall expectation function\n",
    "Putting all the expectation value evaluations together under function."
   ]
  },
  {
   "cell_type": "code",
   "execution_count": 6,
   "id": "cb2d4e03-80f2-469c-a969-8aadf3b71911",
   "metadata": {},
   "outputs": [
    {
     "name": "stdout",
     "output_type": "stream",
     "text": [
      "3.7960000000000003 [0.68799047 0.78678961 0.17688487]\n",
      "6.348800000000001 [1.68799047 0.78678961 0.17688487]\n",
      "2.0194 [0.68799047 1.78678961 0.17688487]\n",
      "2.0094000000000003 [0.68799047 1.78678961 1.17688487]\n",
      "2.2889999999999997 [-0.13279907  2.35801129  1.18010013]\n",
      "1.5606 [1.0199221  2.16071068 1.17898957]\n",
      "1.3496000000000001 [1.41732032 2.46409948 1.18445669]\n",
      "2.4446 [1.86127497 2.38247736 1.39949645]\n",
      "1.0907999999999998 [1.33431473 2.56901985 1.39564804]\n",
      "0.46499999999999986 [1.09417426 2.99141757 1.27769586]\n",
      "0.4878 [0.92920143 3.44459691 1.40965212]\n",
      "0.4925999999999999 [1.20240672 3.08712941 1.07367386]\n",
      "0.39180000000000037 [0.88169365 2.94636426 1.15391303]\n",
      "0.5211999999999999 [0.77161756 2.894512   1.12528439]\n",
      "0.4695999999999998 [0.91096743 2.90331211 1.11933256]\n",
      "0.4032 [0.88391099 3.05487335 1.09189803]\n",
      "0.4321999999999999 [0.89502878 2.97368869 1.20851889]\n",
      "0.4788000000000001 [0.88168975 2.97214971 1.13625877]\n",
      "0.47099999999999964 [0.85538724 2.93213797 1.1629766 ]\n",
      "0.4742000000000002 [0.89435844 2.93722445 1.1534575 ]\n",
      "0.4845999999999999 [0.88398844 2.95379759 1.16746368]\n",
      "0.42440000000000033 [0.87955549 2.95009532 1.14739056]\n",
      "0.4972000000000003 [0.87570373 2.94146567 1.15498997]\n",
      "0.4396 [0.88526751 2.94518738 1.15286361]\n",
      "0.4426000000000001 [0.88175817 2.94946728 1.15628492]\n",
      "0.4873999999999996 [0.88114368 2.94722572 1.15224866]\n",
      "0.45520000000000005 [0.88116497 2.94493366 1.15513311]\n",
      "0.4308000000000005 [0.88201539 2.94705148 1.15452775]\n",
      "0.4727999999999999 [0.88255412 2.94598609 1.15364797]\n",
      "0.45379999999999976 [0.88128646 2.94651287 1.15368824]\n",
      "0.46060000000000034 [0.88155788 2.9460514  1.15426247]\n",
      "0.47879999999999967 [0.88189704 2.94633387 1.15378145]\n",
      "0.46460000000000035 [0.88172038 2.94656064 1.15405559]\n",
      "0.4605999999999999 [0.88160867 2.9463691  1.15386054]\n",
      "0.4620000000000002 [0.8816695  2.94634074 1.15394996]\n",
      "0.4226000000000001 [0.88177669 2.94637091 1.15385772]\n",
      "0.49940000000000007 [0.8816932  2.94641397 1.15391834]\n",
      "0.43820000000000014 [0.88170478 2.9462692  1.153942  ]\n",
      "{   'fun': 0.43820000000000014,\n",
      "    'jac': None,\n",
      "    'nfev': 38,\n",
      "    'nit': None,\n",
      "    'njev': None,\n",
      "    'x': array([0.88170478, 2.9462692 , 1.153942  ])}\n",
      "\n",
      "   Normal return from subroutine COBYLA\n",
      "\n",
      "   NFVALS =   38   F = 4.382000E-01    MAXCV = 0.000000E+00\n",
      "   X = 8.817048E-01   2.946269E+00   1.153942E+00\n"
     ]
    }
   ],
   "source": [
    "def expectation_function(params):\n",
    "    var_circ = QuantumCircuit(1)\n",
    "    var_circ.u(params[0], params[1], params[2],0)\n",
    "        \n",
    "    #### Z measurement #####\n",
    "    Zmeas = var_circ.copy()\n",
    "    Zmeas.measure_all()\n",
    "    result = sampler_sim.run(Zmeas).result()\n",
    "    counts = result.quasi_dists[0]\n",
    "    \n",
    "    zz = counts[0] - counts[1]\n",
    "\n",
    "    #### X measurement #####\n",
    "    Xmeas = var_circ.copy()\n",
    "    Xmeas.h(0)\n",
    "    Xmeas.measure_all()\n",
    "    result = sampler_sim.run(Xmeas).result()\n",
    "    counts = result.quasi_dists[0]\n",
    "    \n",
    "    xx = counts[0] - counts[1]\n",
    "    \n",
    "    cost = -2*zz + 3*xx + 4\n",
    "    print(cost, params)\n",
    "    return cost\n",
    "\n",
    "from qiskit_algorithms.optimizers import COBYLA\n",
    "\n",
    "optimizer = COBYLA(maxiter=100, tol=0.0001, disp = True)\n",
    "params = np.random.rand(3)\n",
    "ret = optimizer.minimize(expectation_function, params)\n",
    "print(ret)"
   ]
  },
  {
   "cell_type": "markdown",
   "id": "ce676020-166a-4967-bcb6-70e59cdd74cb",
   "metadata": {},
   "source": [
    "## We will use a fake backend now"
   ]
  },
  {
   "cell_type": "code",
   "execution_count": 7,
   "id": "2a6313e2-aa95-4189-bcb9-5cdf601dcbc6",
   "metadata": {},
   "outputs": [],
   "source": [
    "from qiskit_ibm_runtime import SamplerV2 as Sampler\n",
    "from qiskit_ibm_runtime import EstimatorV2 as Estimator\n",
    "from qiskit_ibm_runtime.fake_provider import FakeSherbrooke, FakeManilaV2, FakeMumbaiV2\n",
    "from qiskit.transpiler.preset_passmanagers import generate_preset_pass_manager\n",
    "\n",
    "# backend = FakeManilaV2()\n",
    "backend = FakeMumbaiV2()\n",
    "sampler_fake = Sampler(backend)"
   ]
  },
  {
   "cell_type": "code",
   "execution_count": 14,
   "id": "56f2e1ab-9596-4108-8d9f-0aea72175264",
   "metadata": {},
   "outputs": [
    {
     "name": "stdout",
     "output_type": "stream",
     "text": [
      "{   'fun': 0.5947999999999998,\n",
      "    'jac': None,\n",
      "    'nfev': 42,\n",
      "    'nit': None,\n",
      "    'njev': None,\n",
      "    'x': array([0.93894934, 3.01299994, 0.56466211])}\n"
     ]
    }
   ],
   "source": [
    "def expectation_function(params):\n",
    "    pm = generate_preset_pass_manager(optimization_level=1, backend=backend)\n",
    "    \n",
    "    var_circ = QuantumCircuit(1)\n",
    "    var_circ.u(params[0], params[1], params[2],0)\n",
    "    shots = 10000    \n",
    "    #### Z measurement #####\n",
    "    Zmeas = var_circ.copy()\n",
    "    Zmeas.measure_all()\n",
    "    \n",
    "    Zmeas_tr = pm.run(Zmeas)\n",
    "    result = sampler_fake.run([Zmeas_tr], shots = shots).result()\n",
    "    counts = result[0].data.meas.get_counts()\n",
    "    total_counts = counts['0'] + counts['1']\n",
    "    zz = (counts['0'] - counts['1'])/total_counts\n",
    "    \n",
    "    #### X measurement #####\n",
    "    Xmeas = var_circ.copy()\n",
    "    Xmeas.h(0)\n",
    "    Xmeas.measure_all()\n",
    "    \n",
    "    Xmeas_tr = pm.run(Xmeas)\n",
    "    result = sampler_fake.run([Xmeas_tr], shots = shots).result()\n",
    "    counts = result[0].data.meas.get_counts()\n",
    "    total_counts = counts['0'] + counts['1']\n",
    "    xx = (counts['0'] - counts['1'])/total_counts\n",
    "    \n",
    "    cost = -2*zz + 3*xx + 4\n",
    "    # print(cost, params)\n",
    "    return cost\n",
    "\n",
    "from qiskit_algorithms.optimizers import COBYLA\n",
    "optimizer = COBYLA(maxiter=100)\n",
    "params = np.random.rand(3)\n",
    "ret = optimizer.minimize(expectation_function, params)\n",
    "print(ret)"
   ]
  },
  {
   "cell_type": "markdown",
   "id": "094fd267-e03f-491c-b249-30689d680eb6",
   "metadata": {},
   "source": [
    "We have reached $0.4$ which is almost equal to the value we wanted. To get the maximum eigenvalue, we will have to just negate the cost function. \n",
    "\n",
    "This methodology can be used to find the minimum eigenvalues of much bigger systems. We will try to find the smallest eigenvalue of the $4\\times4$ operator given by \n",
    "\n",
    "$$ L = 2XX $$\n",
    "\n",
    "Here a $XX = X\\otimes X$. \n",
    "\n",
    "Let us first find out the eigenvalues of the matrix $L$. "
   ]
  },
  {
   "cell_type": "code",
   "execution_count": 16,
   "id": "0c698574-d4f0-4105-a950-b3c5632b9fb5",
   "metadata": {},
   "outputs": [
    {
     "name": "stdout",
     "output_type": "stream",
     "text": [
      "[ 2. -2.  2. -2.]\n"
     ]
    }
   ],
   "source": [
    "X = np.array([[0, 1],[1, 0]])\n",
    "XX = np.kron(X,X)\n",
    "L = 2*XX\n",
    "print(np.linalg.eig(L)[0])"
   ]
  },
  {
   "cell_type": "markdown",
   "id": "09096d5a-3fea-46e5-bd1e-ebfbfcac580b",
   "metadata": {},
   "source": [
    "Let us first create our ansatz. For creating the ansatz we will use a combination of $R_y$, $R_z$ and $CNOT$ (`CX`) gates as shown below. However, unlike in our previous example, these variational forms have to repeated several times for better results. "
   ]
  },
  {
   "cell_type": "code",
   "execution_count": 15,
   "id": "9d2522f1-dec6-45c7-95f0-9ec095ee1ab2",
   "metadata": {},
   "outputs": [
    {
     "data": {
      "image/png": "[encoded data removed]",
      "text/plain": [
       "<Figure size 1039.79x200.667 with 1 Axes>"
      ]
     },
     "execution_count": 15,
     "metadata": {},
     "output_type": "execute_result"
    }
   ],
   "source": [
    "def var_form(params, depth):\n",
    "    var_circ = QuantumCircuit(2)\n",
    "    var_circ.ry(params[0], 0)\n",
    "    var_circ.rz(params[1], 0)\n",
    "    var_circ.ry(params[0], 1)\n",
    "    var_circ.rz(params[1], 1)\n",
    "        \n",
    "    for jj in range(depth):\n",
    "        var_circ.cx(0, 1)\n",
    "        var_circ.ry(params[0], 0)\n",
    "        var_circ.rz(params[1], 0)\n",
    "        var_circ.ry(params[0], 1)\n",
    "        var_circ.rz(params[1], 1)\n",
    "    \n",
    "    return var_circ \n",
    "\n",
    "params = np.random.rand(2)\n",
    "depth = 3\n",
    "ckt = var_form(params, depth)\n",
    "ckt.draw('mpl')"
   ]
  },
  {
   "cell_type": "markdown",
   "id": "c5f45f6f-5aed-47d5-900f-5350889fff48",
   "metadata": {},
   "source": [
    "We write down our expectation function now. Our operator has two $X$ Pauli matrices. We can convert them to the Z form by operating $H$ gates on both the qubits. For finding the expectation of $\\left\\langle ZZ \\right\\rangle$, we must remember the following.\n",
    "\\begin{equation}\n",
    "\\begin{aligned}\n",
    "ZZ\\left| 00 \\right\\rangle &= \\left| 00 \\right\\rangle \\\\\n",
    "ZZ\\left| 01 \\right\\rangle &= -\\left| 01 \\right\\rangle \\\\\n",
    "ZZ\\left| 10 \\right\\rangle &= -\\left| 10 \\right\\rangle \\\\\n",
    "ZZ\\left| 11 \\right\\rangle &= \\left| 11 \\right\\rangle \n",
    "\\end{aligned}\n",
    "\\end{equation}\n",
    "\n",
    "Thus \n",
    "$$\\left\\langle ZZ \\right\\rangle = \\textrm{\\#('00') + \\#('11') - \\#('01') - \\#('10')}$$"
   ]
  },
  {
   "cell_type": "code",
   "execution_count": 17,
   "id": "c59e4afb-83e3-4309-bfb6-faa8f17d3fe3",
   "metadata": {},
   "outputs": [
    {
     "name": "stdout",
     "output_type": "stream",
     "text": [
      "{   'fun': -1.9964,\n",
      "    'jac': None,\n",
      "    'nfev': 30,\n",
      "    'nit': None,\n",
      "    'njev': None,\n",
      "    'x': array([1.52717423, 1.59091775])}\n"
     ]
    }
   ],
   "source": [
    "### Simulator\n",
    "def expectation_function2(params, num_shots = 10000):\n",
    "    var_circ = var_form(params, 2)\n",
    "    \n",
    "    #### XX measurement #####\n",
    "    Xmeas = var_circ.copy()\n",
    "    Xmeas.h(0)\n",
    "    Xmeas.h(1)\n",
    "    Xmeas.measure_all()\n",
    "    result = sampler_sim.run(Xmeas).result()\n",
    "    counts = result.quasi_dists[0]\n",
    "    \n",
    "    list_bin = [0,1,2,3]\n",
    "    for jj in list_bin:\n",
    "        if jj not in counts:\n",
    "            counts[jj] = 0\n",
    "\n",
    "    xx = counts[0] + counts[3] - counts[2] - counts[1] \n",
    "    \n",
    "    cost = 2*xx\n",
    "    return cost\n",
    "\n",
    "optimizer = COBYLA(maxiter=100, tol=0.0001)\n",
    "params = np.random.rand(2)\n",
    "ret = optimizer.minimize(expectation_function2, params)\n",
    "print(ret)"
   ]
  },
  {
   "cell_type": "code",
   "execution_count": 18,
   "id": "931323e5-9f5d-4d81-ba0b-3530362a3edb",
   "metadata": {},
   "outputs": [
    {
     "name": "stdout",
     "output_type": "stream",
     "text": [
      "{   'fun': -1.6616,\n",
      "    'jac': None,\n",
      "    'nfev': 31,\n",
      "    'nit': None,\n",
      "    'njev': None,\n",
      "    'x': array([1.58299879, 0.0855773 ])}\n"
     ]
    }
   ],
   "source": [
    "### Fake backend\n",
    "def expectation_function2(params, num_shots = 10000):\n",
    "    pm = generate_preset_pass_manager(optimization_level=1, backend=backend)\n",
    "    var_circ = var_form(params, 2)\n",
    "    num_shots = 10000    \n",
    "    \n",
    "    #### XX measurement #####\n",
    "    Xmeas = var_circ.copy()\n",
    "    Xmeas.h(0)\n",
    "    Xmeas.h(1)\n",
    "    Xmeas.measure_all()\n",
    "    Xmeas_tr = pm.run(Xmeas)\n",
    "    result = sampler_fake.run([Xmeas_tr], shots = num_shots).result()\n",
    "    counts = result[0].data.meas.get_counts()\n",
    "    \n",
    "    list_bin = ['00','01','10','11']\n",
    "    for jj in list_bin:\n",
    "        if jj not in counts:\n",
    "            counts[jj] = 0\n",
    "    \n",
    "    total_counts = counts['00'] + counts['11'] + counts['10'] + counts['01']\n",
    "    xx = counts['00'] + counts['11'] - counts['10'] - counts['01'] \n",
    "    xx = xx / total_counts\n",
    "    \n",
    "    cost = 2*xx\n",
    "    return cost\n",
    "\n",
    "optimizer = COBYLA(maxiter=100)\n",
    "params = np.random.rand(2)\n",
    "ret = optimizer.minimize(expectation_function2, params)\n",
    "print(ret)"
   ]
  },
  {
   "cell_type": "markdown",
   "id": "59a7a580-8a88-4cc4-85c3-d6386648fb6b",
   "metadata": {},
   "source": [
    "We have been able to get the minimum eigenvalue correctly here as well. \n",
    "\n",
    "As an exercise try finding the minimum and maximum eigenvalues of the following operator.\n",
    "\n",
    "$$ L = 2XX + 6IZ $$\n",
    "\n",
    "Use a variational form comprising of $R_y$, $R_z$ and `CX` gates."
   ]
  },
  {
   "cell_type": "markdown",
   "id": "653962a4-9da0-4433-a029-696223beab47",
   "metadata": {},
   "source": [
    "### Solution to the above problem"
   ]
  },
  {
   "cell_type": "code",
   "execution_count": 13,
   "id": "a692c357-39da-4eae-be9f-9b08d68c3f16",
   "metadata": {
    "collapsed": true,
    "jupyter": {
     "outputs_hidden": true
    }
   },
   "outputs": [
    {
     "name": "stdout",
     "output_type": "stream",
     "text": [
      "[ 6.32455532 -6.32455532  6.32455532 -6.32455532]\n"
     ]
    }
   ],
   "source": [
    "### Eigenvalues of L #####\n",
    "X = np.array([[0, 1],[1, 0]])\n",
    "Z = np.array([[1, 0],[0, -1]])\n",
    "I = np.array([[1, 0],[0, 1]])\n",
    "\n",
    "L = 2*np.kron(X,X) + 6*np.kron(I,Z)\n",
    "print(np.linalg.eig(L)[0])"
   ]
  },
  {
   "cell_type": "code",
   "execution_count": 14,
   "id": "08d44615-ea1a-4264-ac00-282617b1a596",
   "metadata": {
    "collapsed": true,
    "jupyter": {
     "outputs_hidden": true
    }
   },
   "outputs": [],
   "source": [
    "def var_form_ryrz(params, depth):\n",
    "    var_circ = QuantumCircuit(2)\n",
    "    var_circ.ry(params[0], 0)\n",
    "    var_circ.rz(params[1], 0)\n",
    "    var_circ.ry(params[2], 1)\n",
    "    var_circ.rz(params[3], 1)    \n",
    "           \n",
    "    for jj in range(depth):\n",
    "        var_circ.cx(0, 1)\n",
    "        var_circ.ry(params[0], 0)\n",
    "        var_circ.rz(params[1], 0)\n",
    "        var_circ.ry(params[2], 1)\n",
    "        var_circ.rz(params[3], 1) \n",
    "            \n",
    "    return var_circ  "
   ]
  },
  {
   "cell_type": "code",
   "execution_count": 20,
   "id": "529c4719-d96c-495d-b832-180c644ac7e0",
   "metadata": {
    "collapsed": true,
    "jupyter": {
     "outputs_hidden": true
    }
   },
   "outputs": [
    {
     "name": "stdout",
     "output_type": "stream",
     "text": [
      "{   'fun': -6.158799999999999,\n",
      "    'jac': None,\n",
      "    'nfev': 56,\n",
      "    'nit': None,\n",
      "    'njev': None,\n",
      "    'x': array([ 1.30394481, -0.0602682 ,  0.94716791, -0.03718907])}\n"
     ]
    }
   ],
   "source": [
    "## Simulator\n",
    "def expectation_function3(params, num_shots = 10000):\n",
    "    var_circ = var_form_ryrz(params, 2)\n",
    "    \n",
    "    #### XX measurement #####\n",
    "    Xmeas = var_circ.copy()\n",
    "    Xmeas.h(0)\n",
    "    Xmeas.h(1)\n",
    "    Xmeas.measure_all()\n",
    "    result = sampler_sim.run(Xmeas).result()\n",
    "    counts = result.quasi_dists[0]\n",
    "    \n",
    "    list_bin = [0,1,2,3]\n",
    "    for jj in list_bin:\n",
    "        if jj not in counts:\n",
    "            counts[jj] = 0\n",
    "\n",
    "            \n",
    "    total_counts = counts[0] + counts[1] + counts[2] + counts[3]\n",
    "    xx = counts[0] + counts[3] - counts[2] - counts[1] \n",
    "    \n",
    "    #### IZ measurement #####\n",
    "    IZmeas = var_circ.copy()\n",
    "    IZmeas.measure_all()\n",
    "    result = sampler_sim.run(IZmeas).result()\n",
    "    counts = result.quasi_dists[0]\n",
    "    \n",
    "    for jj in list_bin:\n",
    "        if jj not in counts:\n",
    "            counts[jj] = 0\n",
    "            \n",
    "    total_counts = counts[0] + counts[1] + counts[2] + counts[3]\n",
    "    iz = counts[0] - counts[3] + counts[2] - counts[1] \n",
    "    \n",
    "    cost = 2*xx + 6*iz\n",
    "    return cost\n",
    "\n",
    "optimizer = COBYLA(maxiter=100, tol=0.0001)\n",
    "params = np.random.rand(4)\n",
    "ret = optimizer.minimize(expectation_function3, params)\n",
    "print(ret)"
   ]
  },
  {
   "cell_type": "markdown",
   "id": "4ae80c0d-8706-42d2-b325-d115a4cbebd7",
   "metadata": {},
   "source": [
    "### Another problem"
   ]
  },
  {
   "cell_type": "markdown",
   "id": "2e788f65-5703-478e-8e08-cf2b129a61f1",
   "metadata": {},
   "source": [
    "$$ L = 2XI + 6IY $$\n",
    "\n",
    "Remember $Y = R_z(\\pi/2)HZHR_z'(\\pi/2)$"
   ]
  },
  {
   "cell_type": "code",
   "execution_count": 8,
   "id": "b2b40648-56af-4f88-9f37-6e9f35ed5c37",
   "metadata": {},
   "outputs": [
    {
     "name": "stdout",
     "output_type": "stream",
     "text": [
      "[ 8.  4. -8. -4.]\n",
      "[ 8.  4. -8. -4.]\n"
     ]
    }
   ],
   "source": [
    "### Eigenvalues of L #####\n",
    "X = np.array([[0, 1],[1, 0]])\n",
    "Y = 1j*np.array([[0, -1],[1, 0]])\n",
    "I = np.array([[1, 0],[0, 1]])\n",
    "\n",
    "L1 = 2*np.kron(X,I) + 6*np.kron(I,Y)\n",
    "print(np.real(np.linalg.eig(L1)[0]))\n",
    "\n",
    "L2 = 2*np.kron(I,X) + 6*np.kron(Y,I)\n",
    "print(np.real(np.linalg.eig(L2)[0]))"
   ]
  },
  {
   "cell_type": "code",
   "execution_count": 9,
   "id": "2beba427-1399-4e8b-8b16-e8d642fc1652",
   "metadata": {},
   "outputs": [],
   "source": [
    "def var_form_ryrz(params, depth):\n",
    "    var_circ = QuantumCircuit(2,3)\n",
    "    var_circ.ry(params[0], 0)\n",
    "    var_circ.rz(params[1], 0)\n",
    "    var_circ.ry(params[2], 1)\n",
    "    var_circ.rz(params[3], 1)    \n",
    "           \n",
    "    for jj in range(depth):\n",
    "        var_circ.cx(0, 1)\n",
    "        var_circ.ry(params[4], 0)\n",
    "        var_circ.rz(params[5], 0)\n",
    "        var_circ.ry(params[6], 1)\n",
    "        var_circ.rz(params[7], 1) \n",
    "            \n",
    "    return var_circ  "
   ]
  },
  {
   "cell_type": "code",
   "execution_count": 10,
   "id": "ec17d269-3e73-45dd-b4b7-d5be9806be03",
   "metadata": {},
   "outputs": [],
   "source": [
    "from qiskit.result import marginal_counts\n",
    "def expectation_function4(params, num_shots = 10000):\n",
    "    depth = 1\n",
    "    var_circ = var_form_ryrz(params, depth)\n",
    "\n",
    "    #### XI measurement #####\n",
    "    XI_IY_meas = var_circ.copy()\n",
    "    XI_IY_meas.h(1)\n",
    "    XI_IY_meas.measure([1],[1])\n",
    "    XI_IY_meas.barrier([0,1])\n",
    "\n",
    "    #### IY measurement #####\n",
    "    XI_IY_meas.rz(-np.pi/2,0)\n",
    "    XI_IY_meas.h(0)  \n",
    "    XI_IY_meas.measure([0],[0])\n",
    "\n",
    "    result = sampler_sim.run(XI_IY_meas).result()\n",
    "    bin_num: dict[str, int] = {}\n",
    "    for key, val in result.quasi_dists[0].items():\n",
    "        bin_num[str(bin(key)[2:].zfill(2))] = int(val*num_shots)\n",
    "\n",
    "    counts_iy = marginal_counts(bin_num, indices=[0])\n",
    "    counts_xi = marginal_counts(bin_num, indices=[1])\n",
    "\n",
    "    list_bin = ['0','1']\n",
    "    for jj in list_bin:\n",
    "        if jj not in counts_xi:\n",
    "            counts_xi[jj] = 0\n",
    "        if jj not in counts_iy:\n",
    "            counts_iy[jj] = 0\n",
    "\n",
    "    total_counts = counts_xi['0'] + counts_xi['1']\n",
    "    xi = counts_xi['0'] - counts_xi['1']\n",
    "    xi = xi / total_counts\n",
    "\n",
    "    total_counts = counts_iy['0'] + counts_iy['1']\n",
    "    iy = counts_iy['0'] - counts_iy['1']\n",
    "    iy = iy / total_counts\n",
    "\n",
    "    cost = 2*xi + 6*iy\n",
    "    return cost"
   ]
  },
  {
   "cell_type": "code",
   "execution_count": 11,
   "id": "e4ed80f1-0612-4a31-97b1-62919791501a",
   "metadata": {},
   "outputs": [
    {
     "name": "stdout",
     "output_type": "stream",
     "text": [
      "{   'fun': -8.0,\n",
      "    'jac': None,\n",
      "    'nfev': 100,\n",
      "    'nit': None,\n",
      "    'njev': None,\n",
      "    'x': array([ 3.12613495,  1.61737179, -0.83756059,  2.3057307 ,  1.56719836,\n",
      "        1.56843961,  2.23068448,  0.58270338])}\n",
      "-8.0\n"
     ]
    }
   ],
   "source": [
    "optimizer = COBYLA(maxiter=100, tol=0.0001)\n",
    "params = np.random.rand(8)\n",
    "ret = optimizer.minimize(expectation_function4, params)\n",
    "print(ret)\n",
    "exp = expectation_function4(ret.x)\n",
    "print(exp)"
   ]
  },
  {
   "cell_type": "markdown",
   "id": "6ced08cc-a279-4554-abd5-83fa6df1c7f6",
   "metadata": {},
   "source": [
    "## Using Estimator primitive"
   ]
  },
  {
   "cell_type": "code",
   "execution_count": 12,
   "id": "2cebe5ac-820c-49cc-9b2d-f4568bee573a",
   "metadata": {},
   "outputs": [
    {
     "data": {
      "image/png": "[encoded data removed]",
      "text/plain": [
       "<Figure size 1727.32x2290.94 with 1 Axes>"
      ]
     },
     "execution_count": 12,
     "metadata": {},
     "output_type": "execute_result"
    }
   ],
   "source": [
    "from qiskit.quantum_info import SparsePauliOp\n",
    "from qiskit.circuit.library import RealAmplitudes, EfficientSU2\n",
    "from qiskit.circuit.library import TwoLocal\n",
    "\n",
    "observable = SparsePauliOp.from_list([(\"XI\", 2), (\"IY\", 6)])\n",
    "var_form = EfficientSU2(num_qubits= 2, reps=1)\n",
    "# var_form = TwoLocal(\n",
    "#     2,\n",
    "#     rotation_blocks=[\"rz\", \"ry\"],\n",
    "#     entanglement_blocks=\"cx\",\n",
    "#     entanglement=\"linear\",\n",
    "#     reps=1,\n",
    "# )\n",
    "pm = generate_preset_pass_manager(optimization_level=1, backend=backend)\n",
    "var_circ = QuantumCircuit(2)\n",
    "ansatz = var_circ.compose(var_form)\n",
    "ansatz_tr = pm.run(ansatz)\n",
    "observable_tr = observable.apply_layout(ansatz_tr.layout)\n",
    "ansatz_tr.decompose().draw('mpl')\n",
    "# print(observable_tr)"
   ]
  },
  {
   "cell_type": "code",
   "execution_count": 13,
   "id": "0ee19c4a-22d6-4391-bd85-51753a5dfcac",
   "metadata": {},
   "outputs": [
    {
     "name": "stdout",
     "output_type": "stream",
     "text": [
      " message: Optimization terminated successfully.\n",
      " success: True\n",
      "  status: 1\n",
      "     fun: -7.9999999416466565\n",
      "       x: [ 1.482e+00  1.571e+00  1.383e+00  3.142e+00 -4.461e-01\n",
      "           -1.496e-04  2.077e-01 -1.324e-04]\n",
      "    nfev: 150\n",
      "   maxcv: 0.0\n"
     ]
    }
   ],
   "source": [
    "from scipy.optimize import minimize\n",
    "from qiskit.primitives import StatevectorEstimator\n",
    "\n",
    "estimator = StatevectorEstimator()\n",
    "# estimator = Estimator(backend)\n",
    "def cost_func_vqe(parameters, ansatz, hamiltonian, estimator):\n",
    "\n",
    "    estimator_job = estimator.run([(ansatz, hamiltonian, [parameters])])\n",
    "    estimator_result = estimator_job.result()[0]\n",
    "\n",
    "    cost = estimator_result.data.evs[0]\n",
    "    return cost\n",
    "\n",
    "x0 = np.random.rand(8)\n",
    "result = minimize(cost_func_vqe, x0, args=(ansatz, observable, estimator), method=\"COBYLA\")\n",
    "print(result)"
   ]
  },
  {
   "cell_type": "code",
   "execution_count": null,
   "id": "f3fb492f-464b-4269-9cfd-352dacc6a8a4",
   "metadata": {
    "collapsed": true,
    "jupyter": {
     "outputs_hidden": true
    }
   },
   "outputs": [],
   "source": []
  }
 ],
 "metadata": {
  "kernelspec": {
   "display_name": "Python 3 (ipykernel)",
   "language": "python",
   "name": "python3"
  },
  "language_info": {
   "codemirror_mode": {
    "name": "ipython",
    "version": 3
   },
   "file_extension": ".py",
   "mimetype": "text/x-python",
   "name": "python",
   "nbconvert_exporter": "python",
   "pygments_lexer": "ipython3",
   "version": "3.12.4"
  }
 },
 "nbformat": 4,
 "nbformat_minor": 5
}
